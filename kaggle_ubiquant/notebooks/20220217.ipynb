{
 "cells": [
  {
   "cell_type": "markdown",
   "id": "23fd8584-3b94-4609-b04b-fabd20f6d721",
   "metadata": {},
   "source": [
    "# Intro\n",
    "Here, we train a XGB model over different hparams/configs"
   ]
  },
  {
   "cell_type": "code",
   "execution_count": 1,
   "id": "b4fa3724-cbe9-495a-96de-a8b17e44bdd3",
   "metadata": {},
   "outputs": [
    {
     "name": "stderr",
     "output_type": "stream",
     "text": [
      "/Users/dennis/repos/kaggle-ubiquant/.venv/lib/python3.9/site-packages/xgboost/compat.py:36: FutureWarning: pandas.Int64Index is deprecated and will be removed from pandas in a future version. Use pandas.Index with the appropriate dtype instead.\n",
      "  from pandas import MultiIndex, Int64Index\n"
     ]
    }
   ],
   "source": [
    "from kaggle_ubiquant.dataset import generate_dataset, DatasetConfig, Dataset\n",
    "from kaggle_ubiquant.model import generate_model, ModelConfig\n",
    "from kaggle_ubiquant.train import training_run\n",
    "from definitions import ROOT_DIR\n",
    "import pandas as pd\n",
    "import numpy as np\n",
    "from typing import Iterable, Dict, Tuple, Callable, Optional\n",
    "from scipy.stats import pearsonr\n",
    "import wandb\n",
    "import dataclasses"
   ]
  },
  {
   "cell_type": "code",
   "execution_count": 2,
   "id": "4957ad23-4920-4967-bea0-0dcefe0ef242",
   "metadata": {},
   "outputs": [
    {
     "data": {
      "text/html": [
       "<div>\n",
       "<style scoped>\n",
       "    .dataframe tbody tr th:only-of-type {\n",
       "        vertical-align: middle;\n",
       "    }\n",
       "\n",
       "    .dataframe tbody tr th {\n",
       "        vertical-align: top;\n",
       "    }\n",
       "\n",
       "    .dataframe thead th {\n",
       "        text-align: right;\n",
       "    }\n",
       "</style>\n",
       "<table border=\"1\" class=\"dataframe\">\n",
       "  <thead>\n",
       "    <tr style=\"text-align: right;\">\n",
       "      <th></th>\n",
       "      <th>Unnamed: 0</th>\n",
       "      <th>row_id</th>\n",
       "      <th>time_id</th>\n",
       "      <th>investment_id</th>\n",
       "      <th>target</th>\n",
       "      <th>f_0</th>\n",
       "      <th>f_1</th>\n",
       "      <th>f_2</th>\n",
       "      <th>f_3</th>\n",
       "      <th>f_4</th>\n",
       "      <th>...</th>\n",
       "      <th>f_290</th>\n",
       "      <th>f_291</th>\n",
       "      <th>f_292</th>\n",
       "      <th>f_293</th>\n",
       "      <th>f_294</th>\n",
       "      <th>f_295</th>\n",
       "      <th>f_296</th>\n",
       "      <th>f_297</th>\n",
       "      <th>f_298</th>\n",
       "      <th>f_299</th>\n",
       "    </tr>\n",
       "  </thead>\n",
       "  <tbody>\n",
       "    <tr>\n",
       "      <th>0</th>\n",
       "      <td>0</td>\n",
       "      <td>0_2</td>\n",
       "      <td>0</td>\n",
       "      <td>2</td>\n",
       "      <td>-0.231040</td>\n",
       "      <td>0.810802</td>\n",
       "      <td>-0.514115</td>\n",
       "      <td>0.742368</td>\n",
       "      <td>-0.616673</td>\n",
       "      <td>-0.194255</td>\n",
       "      <td>...</td>\n",
       "      <td>-0.154193</td>\n",
       "      <td>0.912726</td>\n",
       "      <td>-0.734579</td>\n",
       "      <td>0.819155</td>\n",
       "      <td>0.941183</td>\n",
       "      <td>-0.387617</td>\n",
       "      <td>-1.087009</td>\n",
       "      <td>-0.929529</td>\n",
       "      <td>-0.974060</td>\n",
       "      <td>-0.343624</td>\n",
       "    </tr>\n",
       "    <tr>\n",
       "      <th>1</th>\n",
       "      <td>1</td>\n",
       "      <td>0_35</td>\n",
       "      <td>0</td>\n",
       "      <td>35</td>\n",
       "      <td>-0.201764</td>\n",
       "      <td>0.370986</td>\n",
       "      <td>0.615937</td>\n",
       "      <td>-0.619879</td>\n",
       "      <td>1.381941</td>\n",
       "      <td>-0.221554</td>\n",
       "      <td>...</td>\n",
       "      <td>-0.121848</td>\n",
       "      <td>0.912726</td>\n",
       "      <td>1.496875</td>\n",
       "      <td>0.819155</td>\n",
       "      <td>-1.060166</td>\n",
       "      <td>0.260081</td>\n",
       "      <td>-1.087009</td>\n",
       "      <td>-1.490426</td>\n",
       "      <td>-0.797171</td>\n",
       "      <td>0.010625</td>\n",
       "    </tr>\n",
       "    <tr>\n",
       "      <th>2</th>\n",
       "      <td>2</td>\n",
       "      <td>0_47</td>\n",
       "      <td>0</td>\n",
       "      <td>47</td>\n",
       "      <td>-0.113607</td>\n",
       "      <td>0.153591</td>\n",
       "      <td>-1.016361</td>\n",
       "      <td>1.561905</td>\n",
       "      <td>-0.592690</td>\n",
       "      <td>-0.572665</td>\n",
       "      <td>...</td>\n",
       "      <td>-0.170365</td>\n",
       "      <td>0.912726</td>\n",
       "      <td>-1.060477</td>\n",
       "      <td>-1.220772</td>\n",
       "      <td>0.941183</td>\n",
       "      <td>-0.650731</td>\n",
       "      <td>1.296864</td>\n",
       "      <td>1.338143</td>\n",
       "      <td>1.102991</td>\n",
       "      <td>-0.726626</td>\n",
       "    </tr>\n",
       "    <tr>\n",
       "      <th>3</th>\n",
       "      <td>3</td>\n",
       "      <td>0_51</td>\n",
       "      <td>0</td>\n",
       "      <td>51</td>\n",
       "      <td>0.149378</td>\n",
       "      <td>0.055568</td>\n",
       "      <td>-0.388554</td>\n",
       "      <td>0.274646</td>\n",
       "      <td>-0.600506</td>\n",
       "      <td>-0.504672</td>\n",
       "      <td>...</td>\n",
       "      <td>-0.170365</td>\n",
       "      <td>0.912726</td>\n",
       "      <td>-0.777580</td>\n",
       "      <td>-1.220772</td>\n",
       "      <td>0.941183</td>\n",
       "      <td>-0.529121</td>\n",
       "      <td>0.104928</td>\n",
       "      <td>1.139248</td>\n",
       "      <td>-0.439243</td>\n",
       "      <td>-0.594110</td>\n",
       "    </tr>\n",
       "    <tr>\n",
       "      <th>4</th>\n",
       "      <td>4</td>\n",
       "      <td>0_62</td>\n",
       "      <td>0</td>\n",
       "      <td>62</td>\n",
       "      <td>-0.268107</td>\n",
       "      <td>-0.158161</td>\n",
       "      <td>0.239253</td>\n",
       "      <td>1.115570</td>\n",
       "      <td>2.378658</td>\n",
       "      <td>3.569081</td>\n",
       "      <td>...</td>\n",
       "      <td>-0.105676</td>\n",
       "      <td>-1.095620</td>\n",
       "      <td>2.803366</td>\n",
       "      <td>0.819155</td>\n",
       "      <td>-1.060166</td>\n",
       "      <td>3.152009</td>\n",
       "      <td>1.296864</td>\n",
       "      <td>-1.277611</td>\n",
       "      <td>-2.236596</td>\n",
       "      <td>6.585410</td>\n",
       "    </tr>\n",
       "  </tbody>\n",
       "</table>\n",
       "<p>5 rows × 305 columns</p>\n",
       "</div>"
      ],
      "text/plain": [
       "   Unnamed: 0 row_id  time_id  investment_id    target       f_0       f_1  \\\n",
       "0           0    0_2        0              2 -0.231040  0.810802 -0.514115   \n",
       "1           1   0_35        0             35 -0.201764  0.370986  0.615937   \n",
       "2           2   0_47        0             47 -0.113607  0.153591 -1.016361   \n",
       "3           3   0_51        0             51  0.149378  0.055568 -0.388554   \n",
       "4           4   0_62        0             62 -0.268107 -0.158161  0.239253   \n",
       "\n",
       "        f_2       f_3       f_4  ...     f_290     f_291     f_292     f_293  \\\n",
       "0  0.742368 -0.616673 -0.194255  ... -0.154193  0.912726 -0.734579  0.819155   \n",
       "1 -0.619879  1.381941 -0.221554  ... -0.121848  0.912726  1.496875  0.819155   \n",
       "2  1.561905 -0.592690 -0.572665  ... -0.170365  0.912726 -1.060477 -1.220772   \n",
       "3  0.274646 -0.600506 -0.504672  ... -0.170365  0.912726 -0.777580 -1.220772   \n",
       "4  1.115570  2.378658  3.569081  ... -0.105676 -1.095620  2.803366  0.819155   \n",
       "\n",
       "      f_294     f_295     f_296     f_297     f_298     f_299  \n",
       "0  0.941183 -0.387617 -1.087009 -0.929529 -0.974060 -0.343624  \n",
       "1 -1.060166  0.260081 -1.087009 -1.490426 -0.797171  0.010625  \n",
       "2  0.941183 -0.650731  1.296864  1.338143  1.102991 -0.726626  \n",
       "3  0.941183 -0.529121  0.104928  1.139248 -0.439243 -0.594110  \n",
       "4 -1.060166  3.152009  1.296864 -1.277611 -2.236596  6.585410  \n",
       "\n",
       "[5 rows x 305 columns]"
      ]
     },
     "execution_count": 2,
     "metadata": {},
     "output_type": "execute_result"
    }
   ],
   "source": [
    "df = pd.read_csv(ROOT_DIR / 'data/train_smallest.csv')\n",
    "df.head()"
   ]
  },
  {
   "cell_type": "markdown",
   "id": "469562b5-b80c-4f48-b7fa-6d719edc9933",
   "metadata": {},
   "source": [
    "# Build training run\n",
    "uses wandb"
   ]
  },
  {
   "cell_type": "code",
   "execution_count": 3,
   "id": "66174194-6fa1-4b9a-8a82-dbab238daabd",
   "metadata": {},
   "outputs": [
    {
     "data": {
      "text/plain": [
       "10"
      ]
     },
     "execution_count": 3,
     "metadata": {},
     "output_type": "execute_result"
    }
   ],
   "source": [
    "len(pd.unique(df.investment_id))"
   ]
  },
  {
   "cell_type": "code",
   "execution_count": 4,
   "id": "65ebd050-f260-47e2-8624-828df21945ae",
   "metadata": {},
   "outputs": [],
   "source": [
    "dc = DatasetConfig(7, 5, 5)\n",
    "mc = ModelConfig()"
   ]
  },
  {
   "cell_type": "code",
   "execution_count": 5,
   "id": "340f95ad-c1ef-4e91-b906-fa1576b72508",
   "metadata": {
    "jupyter": {
     "source_hidden": true
    },
    "tags": []
   },
   "outputs": [],
   "source": [
    "# Moved code to git repo\n",
    "\n",
    "# def training_run(\n",
    "#     raw_df: pd.DataFrame,\n",
    "#     dataset_config: DatasetConfig, \n",
    "#     model_config: ModelConfig, \n",
    "#     wandb_project: Optional[str] = None,\n",
    "# ) -> float:\n",
    "#     \"\"\"\n",
    "#     Returns a score (goal is to maximize). In this case, it's the Pearson correlation coeff.\n",
    "#     \"\"\"\n",
    "#     dataset = generate_dataset(dataset_config, raw_df)\n",
    "#     model = generate_model(model_config)\n",
    "    \n",
    "#     if wandb_project:\n",
    "#         wandb.init(project=wandb_project)\n",
    "#         wandb.config.dataset_config = dataclasses.asdict(dataset_config)\n",
    "#         wandb.config.model_config = dataclasses.asdict(model_config)\n",
    "    \n",
    "#     feature_columns = [elem for elem in list(dataset.train.columns) if elem != 'target']\n",
    "#     X = dataset.train.loc[:, feature_columns]\n",
    "#     y = dataset.train.target\n",
    "#     model.fit(X, y)\n",
    "    \n",
    "#     preds = model.predict(dataset.test.loc[:, feature_columns])\n",
    "#     targets = dataset.test.target\n",
    "#     r, _ = pearsonr(preds, targets)\n",
    "    \n",
    "#     if wandb_project:\n",
    "#         wandb.log({'pearsonr': r})\n",
    "#         wandb.finish()\n",
    "    \n",
    "#     return r"
   ]
  },
  {
   "cell_type": "code",
   "execution_count": 6,
   "id": "7d4ad688-1709-4b7d-ad6a-47aead354b26",
   "metadata": {},
   "outputs": [
    {
     "name": "stderr",
     "output_type": "stream",
     "text": [
      "100%|████████████████████████████████████████████████████████████████████████████████████████████████████████████| 5043/5043 [00:00<00:00, 25660.07it/s]\n",
      "100%|████████████████████████████████████████████████████████████████████████████████████████████████████████████| 1408/1408 [00:00<00:00, 26613.22it/s]\n",
      "\u001b[34m\u001b[1mwandb\u001b[0m: Currently logged in as: \u001b[33mdennisfeng\u001b[0m (use `wandb login --relogin` to force relogin)\n"
     ]
    },
    {
     "data": {
      "text/html": [
       "\n",
       "                    Syncing run <strong><a href=\"https://wandb.ai/dennisfeng/kaggleUbiquant-scratch/runs/1m6bzjmf\" target=\"_blank\">absurd-sponge-6</a></strong> to <a href=\"https://wandb.ai/dennisfeng/kaggleUbiquant-scratch\" target=\"_blank\">Weights & Biases</a> (<a href=\"https://docs.wandb.com/integrations/jupyter.html\" target=\"_blank\">docs</a>).<br/>\n",
       "\n",
       "                "
      ],
      "text/plain": [
       "<IPython.core.display.HTML object>"
      ]
     },
     "metadata": {},
     "output_type": "display_data"
    },
    {
     "name": "stderr",
     "output_type": "stream",
     "text": [
      "/Users/dennis/repos/kaggle-ubiquant/.venv/lib/python3.9/site-packages/xgboost/data.py:262: FutureWarning: pandas.Int64Index is deprecated and will be removed from pandas in a future version. Use pandas.Index with the appropriate dtype instead.\n",
      "  elif isinstance(data.columns, (pd.Int64Index, pd.RangeIndex)):\n",
      "/Users/dennis/repos/kaggle-ubiquant/.venv/lib/python3.9/site-packages/xgboost/data.py:262: FutureWarning: pandas.Int64Index is deprecated and will be removed from pandas in a future version. Use pandas.Index with the appropriate dtype instead.\n",
      "  elif isinstance(data.columns, (pd.Int64Index, pd.RangeIndex)):\n"
     ]
    },
    {
     "data": {
      "text/html": [
       "<br/>Waiting for W&B process to finish, PID 14037... <strong style=\"color:green\">(success).</strong>"
      ],
      "text/plain": [
       "<IPython.core.display.HTML object>"
      ]
     },
     "metadata": {},
     "output_type": "display_data"
    },
    {
     "data": {
      "application/vnd.jupyter.widget-view+json": {
       "model_id": "",
       "version_major": 2,
       "version_minor": 0
      },
      "text/plain": [
       "VBox(children=(Label(value=' 56.61MB of 56.61MB uploaded (0.00MB deduped)\\r'), FloatProgress(value=1.0, max=1.…"
      ]
     },
     "metadata": {},
     "output_type": "display_data"
    },
    {
     "data": {
      "text/html": [
       "<style>\n",
       "    table.wandb td:nth-child(1) { padding: 0 10px; text-align: right }\n",
       "    .wandb-row { display: flex; flex-direction: row; flex-wrap: wrap; width: 100% }\n",
       "    .wandb-col { display: flex; flex-direction: column; flex-basis: 100%; flex: 1; padding: 10px; }\n",
       "    </style>\n",
       "<div class=\"wandb-row\"><div class=\"wandb-col\">\n",
       "<h3>Run history:</h3><br/><table class=\"wandb\"><tr><td>pearsonr</td><td>▁</td></tr></table><br/></div><div class=\"wandb-col\">\n",
       "<h3>Run summary:</h3><br/><table class=\"wandb\"><tr><td>pearsonr</td><td>0.0932</td></tr></table>\n",
       "</div></div>\n",
       "Synced 6 W&B file(s), 0 media file(s), 0 artifact file(s) and 2 other file(s)\n",
       "<br/>Synced <strong style=\"color:#cdcd00\">absurd-sponge-6</strong>: <a href=\"https://wandb.ai/dennisfeng/kaggleUbiquant-scratch/runs/1m6bzjmf\" target=\"_blank\">https://wandb.ai/dennisfeng/kaggleUbiquant-scratch/runs/1m6bzjmf</a><br/>\n",
       "Find logs at: <code>./wandb/run-20220217_121425-1m6bzjmf/logs</code><br/>\n"
      ],
      "text/plain": [
       "<IPython.core.display.HTML object>"
      ]
     },
     "metadata": {},
     "output_type": "display_data"
    },
    {
     "data": {
      "text/plain": [
       "0.09320343653963722"
      ]
     },
     "execution_count": 6,
     "metadata": {},
     "output_type": "execute_result"
    }
   ],
   "source": [
    "training_run(df, dc, mc, 'kaggleUbiquant-scratch')"
   ]
  },
  {
   "cell_type": "markdown",
   "id": "cc71eb23-d859-427a-a4a3-ca55b56ba436",
   "metadata": {},
   "source": [
    "# Investigate wandb.sklearn\n",
    "Conclusion: only helps with visualizations/plotting, not much else"
   ]
  },
  {
   "cell_type": "code",
   "execution_count": 62,
   "id": "1dd5cd23-8543-4153-a289-1fa02ff6f5ca",
   "metadata": {},
   "outputs": [],
   "source": [
    "X_train = dataset.train.loc[:, feature_columns]\n",
    "y_train = dataset.train.target\n",
    "X_test = dataset.test.loc[:, feature_columns]\n",
    "y_test = dataset.test.target"
   ]
  },
  {
   "cell_type": "code",
   "execution_count": 65,
   "id": "15db2a33-a356-461d-97fa-b15f6b81816d",
   "metadata": {},
   "outputs": [
    {
     "data": {
      "text/html": [
       "\n",
       "                    Syncing run <strong><a href=\"https://wandb.ai/dennisfeng/kaggleUbiquant-scratch/runs/2kf3f9i0\" target=\"_blank\">hearty-snowflake-1</a></strong> to <a href=\"https://wandb.ai/dennisfeng/kaggleUbiquant-scratch\" target=\"_blank\">Weights & Biases</a> (<a href=\"https://docs.wandb.com/integrations/jupyter.html\" target=\"_blank\">docs</a>).<br/>\n",
       "\n",
       "                "
      ],
      "text/plain": [
       "<IPython.core.display.HTML object>"
      ]
     },
     "metadata": {},
     "output_type": "display_data"
    },
    {
     "name": "stderr",
     "output_type": "stream",
     "text": [
      "\u001b[34m\u001b[1mwandb\u001b[0m: \n",
      "\u001b[34m\u001b[1mwandb\u001b[0m: Plotting Regressor.\n",
      "\u001b[34m\u001b[1mwandb\u001b[0m: Logged summary metrics.\n",
      "\u001b[34m\u001b[1mwandb\u001b[0m: Logged learning curve.\n",
      "\u001b[34m\u001b[1mwandb\u001b[0m: \u001b[33mWARNING\u001b[0m using only the first 1000 datapoints to create chart outlier_candidates\n",
      "\u001b[34m\u001b[1mwandb\u001b[0m: Logged outlier candidates.\n",
      "\u001b[34m\u001b[1mwandb\u001b[0m: \u001b[33mWARNING\u001b[0m using only the first 100 datapoints to create chart residuals\n",
      "\u001b[34m\u001b[1mwandb\u001b[0m: \u001b[33mWARNING\u001b[0m using only the first 100 datapoints to create chart residuals\n",
      "\u001b[34m\u001b[1mwandb\u001b[0m: Logged residuals.\n"
     ]
    }
   ],
   "source": [
    "wandb.init(project='kaggleUbiquant-scratch')\n",
    "wandb.sklearn.plot_regressor(model, X_train, X_test, y_train, y_test)"
   ]
  },
  {
   "cell_type": "code",
   "execution_count": null,
   "id": "aeed3df0-7665-44e1-ae30-d9ac572942e7",
   "metadata": {},
   "outputs": [
    {
     "data": {
      "text/html": [
       "<br/>Waiting for W&B process to finish, PID 13635... <strong style=\"color:green\">(success).</strong>"
      ],
      "text/plain": [
       "<IPython.core.display.HTML object>"
      ]
     },
     "metadata": {},
     "output_type": "display_data"
    },
    {
     "data": {
      "application/vnd.jupyter.widget-view+json": {
       "model_id": "",
       "version_major": 2,
       "version_minor": 0
      },
      "text/plain": [
       "VBox(children=(Label(value=' 56.76MB of 56.76MB uploaded (0.00MB deduped)\\r'), FloatProgress(value=1.0, max=1.…"
      ]
     },
     "metadata": {},
     "output_type": "display_data"
    },
    {
     "data": {
      "text/html": [
       "<style>\n",
       "    table.wandb td:nth-child(1) { padding: 0 10px; text-align: right }\n",
       "    .wandb-row { display: flex; flex-direction: row; flex-wrap: wrap; width: 100% }\n",
       "    .wandb-col { display: flex; flex-direction: column; flex-basis: 100%; flex: 1; padding: 10px; }\n",
       "    </style>\n",
       "<div class=\"wandb-row\"><div class=\"wandb-col\">\n",
       "</div><div class=\"wandb-col\">\n",
       "</div></div>\n",
       "Synced 5 W&B file(s), 4 media file(s), 4 artifact file(s) and 2 other file(s)\n",
       "<br/>Synced <strong style=\"color:#cdcd00\">hearty-snowflake-1</strong>: <a href=\"https://wandb.ai/dennisfeng/kaggleUbiquant-scratch/runs/2kf3f9i0\" target=\"_blank\">https://wandb.ai/dennisfeng/kaggleUbiquant-scratch/runs/2kf3f9i0</a><br/>\n",
       "Find logs at: <code>./wandb/run-20220217_115102-2kf3f9i0/logs</code><br/>\n"
      ],
      "text/plain": [
       "<IPython.core.display.HTML object>"
      ]
     },
     "metadata": {},
     "output_type": "display_data"
    }
   ],
   "source": [
    "wandb.finish()"
   ]
  },
  {
   "cell_type": "code",
   "execution_count": null,
   "id": "c24463f3-cda8-4182-a94b-07516f62b5d5",
   "metadata": {},
   "outputs": [],
   "source": []
  },
  {
   "cell_type": "markdown",
   "id": "8d40eb7c-164b-47e8-80b1-292998b80e9f",
   "metadata": {},
   "source": [
    "# Build training loop\n",
    "with optuna to choose hparams"
   ]
  },
  {
   "cell_type": "code",
   "execution_count": null,
   "id": "abe426ed-bad1-4bbe-bb75-603a4ee22c5b",
   "metadata": {},
   "outputs": [],
   "source": []
  }
 ],
 "metadata": {
  "jupytext": {
   "formats": "ipynb,auto:percent"
  },
  "kernelspec": {
   "display_name": "Python 3 (ipykernel)",
   "language": "python",
   "name": "python3"
  },
  "language_info": {
   "codemirror_mode": {
    "name": "ipython",
    "version": 3
   },
   "file_extension": ".py",
   "mimetype": "text/x-python",
   "name": "python",
   "nbconvert_exporter": "python",
   "pygments_lexer": "ipython3",
   "version": "3.9.5"
  }
 },
 "nbformat": 4,
 "nbformat_minor": 5
}
